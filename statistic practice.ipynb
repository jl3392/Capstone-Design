{
 "cells": [
  {
   "cell_type": "code",
   "execution_count": 6,
   "metadata": {
    "collapsed": true
   },
   "outputs": [],
   "source": [
    "import numpy as np\n",
    "import pandas as pd\n",
    "from scipy import stats"
   ]
  },
  {
   "cell_type": "code",
   "execution_count": 7,
   "metadata": {},
   "outputs": [],
   "source": [
    "df1 = pd.read_csv('test_data/JL_carotid1.psdata.csv')\n",
    "df2 = pd.read_csv('test_data/CC_carotid1.psdata.csv')"
   ]
  },
  {
   "cell_type": "code",
   "execution_count": 8,
   "metadata": {
    "collapsed": true
   },
   "outputs": [],
   "source": [
    "df1.columns=['time','vol_healthy']\n",
    "df2.columns=['time','vol_murmur']\n",
    "df3 =df2.vol_murmur\n",
    "frames=[df1, df3]\n",
    "result = pd.concat([df1, df3], axis=1, join='inner')\n",
    "healthy = result['vol_healthy']\n",
    "murmur = result['vol_murmur']"
   ]
  },
  {
   "cell_type": "code",
   "execution_count": null,
   "metadata": {},
   "outputs": [],
   "source": []
  },
  {
   "cell_type": "code",
   "execution_count": 9,
   "metadata": {},
   "outputs": [
    {
     "name": "stdout",
     "output_type": "stream",
     "text": [
      "                time    vol_healthy     vol_murmur\n",
      "count  999993.000000  999993.000000  999993.000000\n",
      "mean       -0.000001      -0.002170      -0.001779\n",
      "std        28.867613       0.095277       0.075201\n",
      "min       -50.000098      -0.256783      -0.271126\n",
      "25%       -25.000050      -0.080386      -0.052797\n",
      "50%        -0.000001       0.009339       0.013245\n",
      "75%        25.000047       0.078005       0.051942\n",
      "max        50.000096       0.219184       0.333506\n"
     ]
    }
   ],
   "source": [
    "print(result.describe())"
   ]
  },
  {
   "cell_type": "code",
   "execution_count": 10,
   "metadata": {},
   "outputs": [
    {
     "name": "stdout",
     "output_type": "stream",
     "text": [
      "                 time  vol_healthy  vol_murmur\n",
      "time         1.000000     0.009438    0.005217\n",
      "vol_healthy  0.009438     1.000000    0.012303\n",
      "vol_murmur   0.005217     0.012303    1.000000\n"
     ]
    }
   ],
   "source": [
    "print(result.corr())"
   ]
  },
  {
   "cell_type": "code",
   "execution_count": 11,
   "metadata": {},
   "outputs": [
    {
     "data": {
      "text/plain": [
       "Ttest_indResult(statistic=-3.2284279250127996, pvalue=0.0012447473519219977)"
      ]
     },
     "execution_count": 11,
     "metadata": {},
     "output_type": "execute_result"
    }
   ],
   "source": [
    "stats.ttest_ind(healthy,murmur, equal_var = False)"
   ]
  }
 ],
 "metadata": {
  "kernelspec": {
   "display_name": "Python 3",
   "language": "python",
   "name": "python3"
  },
  "language_info": {
   "codemirror_mode": {
    "name": "ipython",
    "version": 3
   },
   "file_extension": ".py",
   "mimetype": "text/x-python",
   "name": "python",
   "nbconvert_exporter": "python",
   "pygments_lexer": "ipython3",
   "version": "3.6.1"
  }
 },
 "nbformat": 4,
 "nbformat_minor": 2
}
