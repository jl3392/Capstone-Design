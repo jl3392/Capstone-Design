{
 "cells": [
  {
   "cell_type": "code",
   "execution_count": 23,
   "metadata": {
    "collapsed": true
   },
   "outputs": [],
   "source": [
    "import numpy as np\n",
    "import pandas as pd"
   ]
  },
  {
   "cell_type": "code",
   "execution_count": 24,
   "metadata": {
    "collapsed": true
   },
   "outputs": [],
   "source": [
    "df = pd.read_csv('BW_4channel.psdata.csv')\n",
    "df.columns = ['time','pos1','pos2','pos3','pos4']\n",
    "# position1 is carotid left, position2 is carotid right, position3 is chest left, position 4\n",
    "# is chest right, it is the voltage (v)"
   ]
  },
  {
   "cell_type": "code",
   "execution_count": 25,
   "metadata": {},
   "outputs": [
    {
     "data": {
      "text/html": [
       "<div>\n",
       "<style>\n",
       "    .dataframe thead tr:only-child th {\n",
       "        text-align: right;\n",
       "    }\n",
       "\n",
       "    .dataframe thead th {\n",
       "        text-align: left;\n",
       "    }\n",
       "\n",
       "    .dataframe tbody tr th {\n",
       "        vertical-align: top;\n",
       "    }\n",
       "</style>\n",
       "<table border=\"1\" class=\"dataframe\">\n",
       "  <thead>\n",
       "    <tr style=\"text-align: right;\">\n",
       "      <th></th>\n",
       "      <th>time</th>\n",
       "      <th>pos1</th>\n",
       "      <th>pos2</th>\n",
       "      <th>pos3</th>\n",
       "      <th>pos4</th>\n",
       "    </tr>\n",
       "  </thead>\n",
       "  <tbody>\n",
       "    <tr>\n",
       "      <th>0</th>\n",
       "      <td>-100.000197</td>\n",
       "      <td>0.018885</td>\n",
       "      <td>-0.018885</td>\n",
       "      <td>-0.15096</td>\n",
       "      <td>-0.113435</td>\n",
       "    </tr>\n",
       "    <tr>\n",
       "      <th>1</th>\n",
       "      <td>-99.999997</td>\n",
       "      <td>0.018885</td>\n",
       "      <td>-0.018885</td>\n",
       "      <td>-0.15096</td>\n",
       "      <td>-0.094550</td>\n",
       "    </tr>\n",
       "    <tr>\n",
       "      <th>2</th>\n",
       "      <td>-99.999797</td>\n",
       "      <td>0.018885</td>\n",
       "      <td>-0.018885</td>\n",
       "      <td>-0.15096</td>\n",
       "      <td>-0.113435</td>\n",
       "    </tr>\n",
       "    <tr>\n",
       "      <th>3</th>\n",
       "      <td>-99.999597</td>\n",
       "      <td>0.000000</td>\n",
       "      <td>-0.018885</td>\n",
       "      <td>-0.15096</td>\n",
       "      <td>-0.113435</td>\n",
       "    </tr>\n",
       "    <tr>\n",
       "      <th>4</th>\n",
       "      <td>-99.999397</td>\n",
       "      <td>0.018885</td>\n",
       "      <td>-0.018885</td>\n",
       "      <td>-0.15096</td>\n",
       "      <td>-0.113435</td>\n",
       "    </tr>\n",
       "  </tbody>\n",
       "</table>\n",
       "</div>"
      ],
      "text/plain": [
       "         time      pos1      pos2     pos3      pos4\n",
       "0 -100.000197  0.018885 -0.018885 -0.15096 -0.113435\n",
       "1  -99.999997  0.018885 -0.018885 -0.15096 -0.094550\n",
       "2  -99.999797  0.018885 -0.018885 -0.15096 -0.113435\n",
       "3  -99.999597  0.000000 -0.018885 -0.15096 -0.113435\n",
       "4  -99.999397  0.018885 -0.018885 -0.15096 -0.113435"
      ]
     },
     "execution_count": 25,
     "metadata": {},
     "output_type": "execute_result"
    }
   ],
   "source": [
    "df.head()"
   ]
  },
  {
   "cell_type": "code",
   "execution_count": 26,
   "metadata": {},
   "outputs": [
    {
     "name": "stdout",
     "output_type": "stream",
     "text": [
      "               time          pos1          pos2          pos3          pos4\n",
      "count  1.000003e+06  1.000003e+06  1.000003e+06  1.000003e+06  1.000003e+06\n",
      "mean   7.452617e-07 -7.104913e-03 -4.879922e-03  1.795047e-02  2.184755e-03\n",
      "std    5.773523e+01  5.434525e-02  6.295171e-02  6.892759e-02  9.031117e-02\n",
      "min   -1.000002e+02 -3.217889e-01 -4.347933e-01 -2.830340e-01 -5.861835e-01\n",
      "25%   -5.000010e+01 -3.783219e-02 -5.665600e-02 -1.882382e-02 -5.671752e-02\n",
      "50%    7.500000e-07  0.000000e+00  0.000000e+00  1.882382e-02  0.000000e+00\n",
      "75%    5.000010e+01  3.783219e-02  3.777067e-02  5.659449e-02  5.671752e-02\n",
      "max    1.000002e+02  3.029035e-01  2.646407e-01  3.208046e-01  4.916339e-01\n"
     ]
    }
   ],
   "source": [
    "print(df.describe())"
   ]
  },
  {
   "cell_type": "code",
   "execution_count": 27,
   "metadata": {},
   "outputs": [
    {
     "name": "stdout",
     "output_type": "stream",
     "text": [
      "          time      pos1      pos2      pos3      pos4\n",
      "time  1.000000  0.000118 -0.000318  0.001041  0.002678\n",
      "pos1  0.000118  1.000000  0.688427 -0.338830  0.114823\n",
      "pos2 -0.000318  0.688427  1.000000 -0.391408  0.113557\n",
      "pos3  0.001041 -0.338830 -0.391408  1.000000  0.413360\n",
      "pos4  0.002678  0.114823  0.113557  0.413360  1.000000\n"
     ]
    }
   ],
   "source": [
    "print(df.corr())"
   ]
  }
 ],
 "metadata": {
  "kernelspec": {
   "display_name": "Python 3",
   "language": "python",
   "name": "python3"
  },
  "language_info": {
   "codemirror_mode": {
    "name": "ipython",
    "version": 3
   },
   "file_extension": ".py",
   "mimetype": "text/x-python",
   "name": "python",
   "nbconvert_exporter": "python",
   "pygments_lexer": "ipython3",
   "version": "3.6.1"
  }
 },
 "nbformat": 4,
 "nbformat_minor": 2
}
